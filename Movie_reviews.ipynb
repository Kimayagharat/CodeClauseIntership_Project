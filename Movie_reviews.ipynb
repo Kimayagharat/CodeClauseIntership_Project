{
  "nbformat": 4,
  "nbformat_minor": 0,
  "metadata": {
    "colab": {
      "provenance": []
    },
    "kernelspec": {
      "name": "python3",
      "display_name": "Python 3"
    },
    "language_info": {
      "name": "python"
    }
  },
  "cells": [
    {
      "cell_type": "code",
      "execution_count": null,
      "metadata": {
        "id": "92QpFPoceNAx"
      },
      "outputs": [],
      "source": [
        "import pandas as pd\n",
        "from sklearn.feature_extraction.text import TfidfVectorizer\n",
        "from sklearn.cluster import KMeans\n",
        "from sklearn.metrics import silhouette_score\n",
        "from nltk.tokenize import word_tokenize\n",
        "from nltk.corpus import stopwords\n",
        "from nltk.stem import WordNetLemmatizer\n",
        "from sklearn.model_selection import train_test_split\n",
        "from sklearn.linear_model import LogisticRegression\n",
        "from sklearn.metrics import accuracy_score\n",
        "import nltk"
      ]
    },
    {
      "cell_type": "code",
      "source": [
        "from google.colab import drive\n",
        "drive.mount('/content/drive')"
      ],
      "metadata": {
        "colab": {
          "base_uri": "https://localhost:8080/"
        },
        "id": "DFwakyIweihP",
        "outputId": "ba993f1b-8571-459d-cad8-746249ba035e"
      },
      "execution_count": null,
      "outputs": [
        {
          "output_type": "stream",
          "name": "stdout",
          "text": [
            "Mounted at /content/drive\n"
          ]
        }
      ]
    },
    {
      "cell_type": "code",
      "source": [
        "df = pd.read_csv(\"/content/drive/My Drive/colab/eee/rotten.csv\")"
      ],
      "metadata": {
        "id": "7PXOyhOvemDM"
      },
      "execution_count": null,
      "outputs": []
    },
    {
      "cell_type": "code",
      "source": [
        "df.head()"
      ],
      "metadata": {
        "colab": {
          "base_uri": "https://localhost:8080/",
          "height": 521
        },
        "id": "XvcFMFZgex_8",
        "outputId": "a12a2765-1f94-41fe-b077-f45d71679ec0"
      },
      "execution_count": null,
      "outputs": [
        {
          "output_type": "execute_result",
          "data": {
            "text/plain": [
              "                                  id  reviewId creationDate       criticName  \\\n",
              "0                            beavers   1145982   2003-05-23  Ivan M. Lincoln   \n",
              "1                         blood_mask   1636744   2007-06-02    The Foywonder   \n",
              "2  city_hunter_shinjuku_private_eyes   2590987   2019-05-28     Reuben Baron   \n",
              "3  city_hunter_shinjuku_private_eyes   2558908   2019-02-14      Matt Schley   \n",
              "4                 dangerous_men_2015   2504681   2018-08-29        Pat Padua   \n",
              "\n",
              "   isTopCritic originalScore reviewState                 publicatioName  \\\n",
              "0        False         3.5/4       fresh  Deseret News (Salt Lake City)   \n",
              "1        False           1/5      rotten                  Dread Central   \n",
              "2        False           NaN       fresh                            CBR   \n",
              "3        False         2.5/5      rotten                    Japan Times   \n",
              "4        False           NaN       fresh                          DCist   \n",
              "\n",
              "                                          reviewText scoreSentiment  \\\n",
              "0  Timed to be just long enough for most youngste...       POSITIVE   \n",
              "1  It doesn't matter if a movie costs 300 million...       NEGATIVE   \n",
              "2  The choreography is so precise and lifelike at...       POSITIVE   \n",
              "3  The film's out-of-touch attempts at humor may ...       NEGATIVE   \n",
              "4  Its clumsy determination is endearing and some...       POSITIVE   \n",
              "\n",
              "                                           reviewUrl  \n",
              "0  http://www.deseretnews.com/article/700003233/B...  \n",
              "1  http://www.dreadcentral.com/index.php?name=Rev...  \n",
              "2  https://www.cbr.com/city-hunter-shinjuku-priva...  \n",
              "3  https://www.japantimes.co.jp/culture/2019/02/0...  \n",
              "4  http://dcist.com/2015/11/out_of_frame_dangerou...  "
            ],
            "text/html": [
              "\n",
              "  <div id=\"df-a0b24777-27eb-4be7-9d74-c4500af487b7\" class=\"colab-df-container\">\n",
              "    <div>\n",
              "<style scoped>\n",
              "    .dataframe tbody tr th:only-of-type {\n",
              "        vertical-align: middle;\n",
              "    }\n",
              "\n",
              "    .dataframe tbody tr th {\n",
              "        vertical-align: top;\n",
              "    }\n",
              "\n",
              "    .dataframe thead th {\n",
              "        text-align: right;\n",
              "    }\n",
              "</style>\n",
              "<table border=\"1\" class=\"dataframe\">\n",
              "  <thead>\n",
              "    <tr style=\"text-align: right;\">\n",
              "      <th></th>\n",
              "      <th>id</th>\n",
              "      <th>reviewId</th>\n",
              "      <th>creationDate</th>\n",
              "      <th>criticName</th>\n",
              "      <th>isTopCritic</th>\n",
              "      <th>originalScore</th>\n",
              "      <th>reviewState</th>\n",
              "      <th>publicatioName</th>\n",
              "      <th>reviewText</th>\n",
              "      <th>scoreSentiment</th>\n",
              "      <th>reviewUrl</th>\n",
              "    </tr>\n",
              "  </thead>\n",
              "  <tbody>\n",
              "    <tr>\n",
              "      <th>0</th>\n",
              "      <td>beavers</td>\n",
              "      <td>1145982</td>\n",
              "      <td>2003-05-23</td>\n",
              "      <td>Ivan M. Lincoln</td>\n",
              "      <td>False</td>\n",
              "      <td>3.5/4</td>\n",
              "      <td>fresh</td>\n",
              "      <td>Deseret News (Salt Lake City)</td>\n",
              "      <td>Timed to be just long enough for most youngste...</td>\n",
              "      <td>POSITIVE</td>\n",
              "      <td>http://www.deseretnews.com/article/700003233/B...</td>\n",
              "    </tr>\n",
              "    <tr>\n",
              "      <th>1</th>\n",
              "      <td>blood_mask</td>\n",
              "      <td>1636744</td>\n",
              "      <td>2007-06-02</td>\n",
              "      <td>The Foywonder</td>\n",
              "      <td>False</td>\n",
              "      <td>1/5</td>\n",
              "      <td>rotten</td>\n",
              "      <td>Dread Central</td>\n",
              "      <td>It doesn't matter if a movie costs 300 million...</td>\n",
              "      <td>NEGATIVE</td>\n",
              "      <td>http://www.dreadcentral.com/index.php?name=Rev...</td>\n",
              "    </tr>\n",
              "    <tr>\n",
              "      <th>2</th>\n",
              "      <td>city_hunter_shinjuku_private_eyes</td>\n",
              "      <td>2590987</td>\n",
              "      <td>2019-05-28</td>\n",
              "      <td>Reuben Baron</td>\n",
              "      <td>False</td>\n",
              "      <td>NaN</td>\n",
              "      <td>fresh</td>\n",
              "      <td>CBR</td>\n",
              "      <td>The choreography is so precise and lifelike at...</td>\n",
              "      <td>POSITIVE</td>\n",
              "      <td>https://www.cbr.com/city-hunter-shinjuku-priva...</td>\n",
              "    </tr>\n",
              "    <tr>\n",
              "      <th>3</th>\n",
              "      <td>city_hunter_shinjuku_private_eyes</td>\n",
              "      <td>2558908</td>\n",
              "      <td>2019-02-14</td>\n",
              "      <td>Matt Schley</td>\n",
              "      <td>False</td>\n",
              "      <td>2.5/5</td>\n",
              "      <td>rotten</td>\n",
              "      <td>Japan Times</td>\n",
              "      <td>The film's out-of-touch attempts at humor may ...</td>\n",
              "      <td>NEGATIVE</td>\n",
              "      <td>https://www.japantimes.co.jp/culture/2019/02/0...</td>\n",
              "    </tr>\n",
              "    <tr>\n",
              "      <th>4</th>\n",
              "      <td>dangerous_men_2015</td>\n",
              "      <td>2504681</td>\n",
              "      <td>2018-08-29</td>\n",
              "      <td>Pat Padua</td>\n",
              "      <td>False</td>\n",
              "      <td>NaN</td>\n",
              "      <td>fresh</td>\n",
              "      <td>DCist</td>\n",
              "      <td>Its clumsy determination is endearing and some...</td>\n",
              "      <td>POSITIVE</td>\n",
              "      <td>http://dcist.com/2015/11/out_of_frame_dangerou...</td>\n",
              "    </tr>\n",
              "  </tbody>\n",
              "</table>\n",
              "</div>\n",
              "    <div class=\"colab-df-buttons\">\n",
              "\n",
              "  <div class=\"colab-df-container\">\n",
              "    <button class=\"colab-df-convert\" onclick=\"convertToInteractive('df-a0b24777-27eb-4be7-9d74-c4500af487b7')\"\n",
              "            title=\"Convert this dataframe to an interactive table.\"\n",
              "            style=\"display:none;\">\n",
              "\n",
              "  <svg xmlns=\"http://www.w3.org/2000/svg\" height=\"24px\" viewBox=\"0 -960 960 960\">\n",
              "    <path d=\"M120-120v-720h720v720H120Zm60-500h600v-160H180v160Zm220 220h160v-160H400v160Zm0 220h160v-160H400v160ZM180-400h160v-160H180v160Zm440 0h160v-160H620v160ZM180-180h160v-160H180v160Zm440 0h160v-160H620v160Z\"/>\n",
              "  </svg>\n",
              "    </button>\n",
              "\n",
              "  <style>\n",
              "    .colab-df-container {\n",
              "      display:flex;\n",
              "      gap: 12px;\n",
              "    }\n",
              "\n",
              "    .colab-df-convert {\n",
              "      background-color: #E8F0FE;\n",
              "      border: none;\n",
              "      border-radius: 50%;\n",
              "      cursor: pointer;\n",
              "      display: none;\n",
              "      fill: #1967D2;\n",
              "      height: 32px;\n",
              "      padding: 0 0 0 0;\n",
              "      width: 32px;\n",
              "    }\n",
              "\n",
              "    .colab-df-convert:hover {\n",
              "      background-color: #E2EBFA;\n",
              "      box-shadow: 0px 1px 2px rgba(60, 64, 67, 0.3), 0px 1px 3px 1px rgba(60, 64, 67, 0.15);\n",
              "      fill: #174EA6;\n",
              "    }\n",
              "\n",
              "    .colab-df-buttons div {\n",
              "      margin-bottom: 4px;\n",
              "    }\n",
              "\n",
              "    [theme=dark] .colab-df-convert {\n",
              "      background-color: #3B4455;\n",
              "      fill: #D2E3FC;\n",
              "    }\n",
              "\n",
              "    [theme=dark] .colab-df-convert:hover {\n",
              "      background-color: #434B5C;\n",
              "      box-shadow: 0px 1px 3px 1px rgba(0, 0, 0, 0.15);\n",
              "      filter: drop-shadow(0px 1px 2px rgba(0, 0, 0, 0.3));\n",
              "      fill: #FFFFFF;\n",
              "    }\n",
              "  </style>\n",
              "\n",
              "    <script>\n",
              "      const buttonEl =\n",
              "        document.querySelector('#df-a0b24777-27eb-4be7-9d74-c4500af487b7 button.colab-df-convert');\n",
              "      buttonEl.style.display =\n",
              "        google.colab.kernel.accessAllowed ? 'block' : 'none';\n",
              "\n",
              "      async function convertToInteractive(key) {\n",
              "        const element = document.querySelector('#df-a0b24777-27eb-4be7-9d74-c4500af487b7');\n",
              "        const dataTable =\n",
              "          await google.colab.kernel.invokeFunction('convertToInteractive',\n",
              "                                                    [key], {});\n",
              "        if (!dataTable) return;\n",
              "\n",
              "        const docLinkHtml = 'Like what you see? Visit the ' +\n",
              "          '<a target=\"_blank\" href=https://colab.research.google.com/notebooks/data_table.ipynb>data table notebook</a>'\n",
              "          + ' to learn more about interactive tables.';\n",
              "        element.innerHTML = '';\n",
              "        dataTable['output_type'] = 'display_data';\n",
              "        await google.colab.output.renderOutput(dataTable, element);\n",
              "        const docLink = document.createElement('div');\n",
              "        docLink.innerHTML = docLinkHtml;\n",
              "        element.appendChild(docLink);\n",
              "      }\n",
              "    </script>\n",
              "  </div>\n",
              "\n",
              "\n",
              "<div id=\"df-9ef3a7ed-b85d-4bd0-8bd3-ec5838aac35d\">\n",
              "  <button class=\"colab-df-quickchart\" onclick=\"quickchart('df-9ef3a7ed-b85d-4bd0-8bd3-ec5838aac35d')\"\n",
              "            title=\"Suggest charts\"\n",
              "            style=\"display:none;\">\n",
              "\n",
              "<svg xmlns=\"http://www.w3.org/2000/svg\" height=\"24px\"viewBox=\"0 0 24 24\"\n",
              "     width=\"24px\">\n",
              "    <g>\n",
              "        <path d=\"M19 3H5c-1.1 0-2 .9-2 2v14c0 1.1.9 2 2 2h14c1.1 0 2-.9 2-2V5c0-1.1-.9-2-2-2zM9 17H7v-7h2v7zm4 0h-2V7h2v10zm4 0h-2v-4h2v4z\"/>\n",
              "    </g>\n",
              "</svg>\n",
              "  </button>\n",
              "\n",
              "<style>\n",
              "  .colab-df-quickchart {\n",
              "      --bg-color: #E8F0FE;\n",
              "      --fill-color: #1967D2;\n",
              "      --hover-bg-color: #E2EBFA;\n",
              "      --hover-fill-color: #174EA6;\n",
              "      --disabled-fill-color: #AAA;\n",
              "      --disabled-bg-color: #DDD;\n",
              "  }\n",
              "\n",
              "  [theme=dark] .colab-df-quickchart {\n",
              "      --bg-color: #3B4455;\n",
              "      --fill-color: #D2E3FC;\n",
              "      --hover-bg-color: #434B5C;\n",
              "      --hover-fill-color: #FFFFFF;\n",
              "      --disabled-bg-color: #3B4455;\n",
              "      --disabled-fill-color: #666;\n",
              "  }\n",
              "\n",
              "  .colab-df-quickchart {\n",
              "    background-color: var(--bg-color);\n",
              "    border: none;\n",
              "    border-radius: 50%;\n",
              "    cursor: pointer;\n",
              "    display: none;\n",
              "    fill: var(--fill-color);\n",
              "    height: 32px;\n",
              "    padding: 0;\n",
              "    width: 32px;\n",
              "  }\n",
              "\n",
              "  .colab-df-quickchart:hover {\n",
              "    background-color: var(--hover-bg-color);\n",
              "    box-shadow: 0 1px 2px rgba(60, 64, 67, 0.3), 0 1px 3px 1px rgba(60, 64, 67, 0.15);\n",
              "    fill: var(--button-hover-fill-color);\n",
              "  }\n",
              "\n",
              "  .colab-df-quickchart-complete:disabled,\n",
              "  .colab-df-quickchart-complete:disabled:hover {\n",
              "    background-color: var(--disabled-bg-color);\n",
              "    fill: var(--disabled-fill-color);\n",
              "    box-shadow: none;\n",
              "  }\n",
              "\n",
              "  .colab-df-spinner {\n",
              "    border: 2px solid var(--fill-color);\n",
              "    border-color: transparent;\n",
              "    border-bottom-color: var(--fill-color);\n",
              "    animation:\n",
              "      spin 1s steps(1) infinite;\n",
              "  }\n",
              "\n",
              "  @keyframes spin {\n",
              "    0% {\n",
              "      border-color: transparent;\n",
              "      border-bottom-color: var(--fill-color);\n",
              "      border-left-color: var(--fill-color);\n",
              "    }\n",
              "    20% {\n",
              "      border-color: transparent;\n",
              "      border-left-color: var(--fill-color);\n",
              "      border-top-color: var(--fill-color);\n",
              "    }\n",
              "    30% {\n",
              "      border-color: transparent;\n",
              "      border-left-color: var(--fill-color);\n",
              "      border-top-color: var(--fill-color);\n",
              "      border-right-color: var(--fill-color);\n",
              "    }\n",
              "    40% {\n",
              "      border-color: transparent;\n",
              "      border-right-color: var(--fill-color);\n",
              "      border-top-color: var(--fill-color);\n",
              "    }\n",
              "    60% {\n",
              "      border-color: transparent;\n",
              "      border-right-color: var(--fill-color);\n",
              "    }\n",
              "    80% {\n",
              "      border-color: transparent;\n",
              "      border-right-color: var(--fill-color);\n",
              "      border-bottom-color: var(--fill-color);\n",
              "    }\n",
              "    90% {\n",
              "      border-color: transparent;\n",
              "      border-bottom-color: var(--fill-color);\n",
              "    }\n",
              "  }\n",
              "</style>\n",
              "\n",
              "  <script>\n",
              "    async function quickchart(key) {\n",
              "      const quickchartButtonEl =\n",
              "        document.querySelector('#' + key + ' button');\n",
              "      quickchartButtonEl.disabled = true;  // To prevent multiple clicks.\n",
              "      quickchartButtonEl.classList.add('colab-df-spinner');\n",
              "      try {\n",
              "        const charts = await google.colab.kernel.invokeFunction(\n",
              "            'suggestCharts', [key], {});\n",
              "      } catch (error) {\n",
              "        console.error('Error during call to suggestCharts:', error);\n",
              "      }\n",
              "      quickchartButtonEl.classList.remove('colab-df-spinner');\n",
              "      quickchartButtonEl.classList.add('colab-df-quickchart-complete');\n",
              "    }\n",
              "    (() => {\n",
              "      let quickchartButtonEl =\n",
              "        document.querySelector('#df-9ef3a7ed-b85d-4bd0-8bd3-ec5838aac35d button');\n",
              "      quickchartButtonEl.style.display =\n",
              "        google.colab.kernel.accessAllowed ? 'block' : 'none';\n",
              "    })();\n",
              "  </script>\n",
              "</div>\n",
              "\n",
              "    </div>\n",
              "  </div>\n"
            ],
            "application/vnd.google.colaboratory.intrinsic+json": {
              "type": "dataframe",
              "variable_name": "df"
            }
          },
          "metadata": {},
          "execution_count": 6
        }
      ]
    },
    {
      "cell_type": "code",
      "source": [
        "df.shape"
      ],
      "metadata": {
        "colab": {
          "base_uri": "https://localhost:8080/"
        },
        "id": "HV2s5WmJe159",
        "outputId": "722be278-cc06-4e8e-8071-899db7df2aea"
      },
      "execution_count": null,
      "outputs": [
        {
          "output_type": "execute_result",
          "data": {
            "text/plain": [
              "(1444963, 11)"
            ]
          },
          "metadata": {},
          "execution_count": 7
        }
      ]
    },
    {
      "cell_type": "code",
      "source": [
        "nltk.download('stopwords')\n",
        "nltk.download('punkt')\n",
        "nltk.download('wordnet')"
      ],
      "metadata": {
        "colab": {
          "base_uri": "https://localhost:8080/"
        },
        "id": "AfDCkloyifl5",
        "outputId": "4a56f334-bf9c-422f-9048-e88015ce6b8b"
      },
      "execution_count": null,
      "outputs": [
        {
          "output_type": "stream",
          "name": "stderr",
          "text": [
            "[nltk_data] Downloading package stopwords to /root/nltk_data...\n",
            "[nltk_data]   Unzipping corpora/stopwords.zip.\n",
            "[nltk_data] Downloading package punkt to /root/nltk_data...\n",
            "[nltk_data]   Unzipping tokenizers/punkt.zip.\n",
            "[nltk_data] Downloading package wordnet to /root/nltk_data...\n"
          ]
        },
        {
          "output_type": "execute_result",
          "data": {
            "text/plain": [
              "True"
            ]
          },
          "metadata": {},
          "execution_count": 8
        }
      ]
    },
    {
      "cell_type": "code",
      "source": [
        "stop_words = set(stopwords.words('english'))\n",
        "lemmatizer = WordNetLemmatizer()"
      ],
      "metadata": {
        "id": "qivV6NWVhLaQ"
      },
      "execution_count": null,
      "outputs": []
    },
    {
      "cell_type": "code",
      "source": [
        "def preprocess_text(text):\n",
        "    if isinstance(text, str):  # Check if the value is a string\n",
        "        tokens = word_tokenize(text.lower())  # Tokenize the text and convert to lowercase\n",
        "        tokens = [token for token in tokens if token.isalpha()]  # Filter out non-alphabetic tokens\n",
        "        tokens = [token for token in tokens if token not in stop_words]  # Remove stop words\n",
        "        tokens = [lemmatizer.lemmatize(token) for token in tokens]  # Lemmatize tokens\n",
        "        return ' '.join(tokens)  # Return preprocessed text as a string\n",
        "    else:\n",
        "        return ''"
      ],
      "metadata": {
        "id": "rUOTNmYmhLoF"
      },
      "execution_count": null,
      "outputs": []
    },
    {
      "cell_type": "code",
      "source": [
        "df['clean_text'] = df['reviewText'].apply(preprocess_text)"
      ],
      "metadata": {
        "id": "r2YjpZJwrkZN"
      },
      "execution_count": null,
      "outputs": []
    },
    {
      "cell_type": "code",
      "source": [
        "tfidf_vectorizer = TfidfVectorizer()\n",
        "tfidf_matrix = tfidf_vectorizer.fit_transform(df['clean_text'])"
      ],
      "metadata": {
        "id": "nX-jJb8WvgDr"
      },
      "execution_count": null,
      "outputs": []
    },
    {
      "cell_type": "code",
      "source": [
        "num_clusters = 3  # Number of clusters (can be adjusted)\n",
        "kmeans = KMeans(n_clusters=num_clusters, random_state=42)  # Initialize KMeans model\n",
        "kmeans.fit(tfidf_matrix)  # Fit KMeans model to the TF-IDF matrix\n",
        "df['cluster'] = kmeans.labels_  # Assign cluster labels to the DataFrame"
      ],
      "metadata": {
        "colab": {
          "base_uri": "https://localhost:8080/"
        },
        "id": "xttXGPMuwKUl",
        "outputId": "97b16102-5b09-484b-b13a-398f20140386"
      },
      "execution_count": null,
      "outputs": [
        {
          "output_type": "stream",
          "name": "stderr",
          "text": [
            "/usr/local/lib/python3.10/dist-packages/sklearn/cluster/_kmeans.py:870: FutureWarning: The default value of `n_init` will change from 10 to 'auto' in 1.4. Set the value of `n_init` explicitly to suppress the warning\n",
            "  warnings.warn(\n"
          ]
        }
      ]
    },
    {
      "cell_type": "code",
      "source": [
        "import numpy as np\n",
        "\n",
        "# Sample a subset of the data for evaluation\n",
        "sample_size = 1000  # Adjust the sample size as needed\n",
        "sample_indices = np.random.choice(df.shape[0], sample_size, replace=False)\n",
        "sample_tfidf_matrix = tfidf_matrix[sample_indices]\n",
        "sample_labels = kmeans.labels_[sample_indices]\n",
        "\n",
        "# Calculate the Silhouette Score for the sample\n",
        "sample_silhouette_avg = silhouette_score(sample_tfidf_matrix, sample_labels)\n",
        "print(\"Silhouette Score :\", sample_silhouette_avg)\n"
      ],
      "metadata": {
        "colab": {
          "base_uri": "https://localhost:8080/"
        },
        "id": "xBqYRgDtgCGG",
        "outputId": "a4cf8c27-0bb3-4e85-f6ec-c47530b60e3f"
      },
      "execution_count": null,
      "outputs": [
        {
          "output_type": "stream",
          "name": "stdout",
          "text": [
            "Silhouette Score : 0.015897626192846927\n"
          ]
        }
      ]
    }
  ]
}